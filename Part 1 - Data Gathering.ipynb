{
 "cells": [
  {
   "cell_type": "markdown",
   "metadata": {},
   "source": [
    "### Imports"
   ]
  },
  {
   "cell_type": "code",
   "execution_count": 1,
   "metadata": {},
   "outputs": [],
   "source": [
    "import numpy as np\n",
    "import pandas as pd\n",
    "import matplotlib.pyplot as plt\n",
    "import seaborn as sns"
   ]
  },
  {
   "cell_type": "markdown",
   "metadata": {},
   "source": [
    "### Loading the data"
   ]
  },
  {
   "cell_type": "markdown",
   "metadata": {},
   "source": [
    "#### They below data is the list of businesses on Yelp. They do not contain reviews. We will add those later."
   ]
  },
  {
   "cell_type": "code",
   "execution_count": 2,
   "metadata": {},
   "outputs": [
    {
     "data": {
      "text/html": [
       "<div>\n",
       "<style scoped>\n",
       "    .dataframe tbody tr th:only-of-type {\n",
       "        vertical-align: middle;\n",
       "    }\n",
       "\n",
       "    .dataframe tbody tr th {\n",
       "        vertical-align: top;\n",
       "    }\n",
       "\n",
       "    .dataframe thead th {\n",
       "        text-align: right;\n",
       "    }\n",
       "</style>\n",
       "<table border=\"1\" class=\"dataframe\">\n",
       "  <thead>\n",
       "    <tr style=\"text-align: right;\">\n",
       "      <th></th>\n",
       "      <th>business_id</th>\n",
       "      <th>name</th>\n",
       "      <th>address</th>\n",
       "      <th>city</th>\n",
       "      <th>state</th>\n",
       "      <th>postal_code</th>\n",
       "      <th>latitude</th>\n",
       "      <th>longitude</th>\n",
       "      <th>stars</th>\n",
       "      <th>review_count</th>\n",
       "      <th>is_open</th>\n",
       "      <th>attributes</th>\n",
       "      <th>categories</th>\n",
       "      <th>hours</th>\n",
       "    </tr>\n",
       "  </thead>\n",
       "  <tbody>\n",
       "    <tr>\n",
       "      <th>0</th>\n",
       "      <td>1SWheh84yJXfytovILXOAQ</td>\n",
       "      <td>Arizona Biltmore Golf Club</td>\n",
       "      <td>2818 E Camino Acequia Drive</td>\n",
       "      <td>Phoenix</td>\n",
       "      <td>AZ</td>\n",
       "      <td>85016</td>\n",
       "      <td>33.522143</td>\n",
       "      <td>-112.018481</td>\n",
       "      <td>3.0</td>\n",
       "      <td>5</td>\n",
       "      <td>0</td>\n",
       "      <td>{'GoodForKids': 'False'}</td>\n",
       "      <td>Golf, Active Life</td>\n",
       "      <td>None</td>\n",
       "    </tr>\n",
       "    <tr>\n",
       "      <th>1</th>\n",
       "      <td>QXAEGFB4oINsVuTFxEYKFQ</td>\n",
       "      <td>Emerald Chinese Restaurant</td>\n",
       "      <td>30 Eglinton Avenue W</td>\n",
       "      <td>Mississauga</td>\n",
       "      <td>ON</td>\n",
       "      <td>L5R 3E7</td>\n",
       "      <td>43.605499</td>\n",
       "      <td>-79.652289</td>\n",
       "      <td>2.5</td>\n",
       "      <td>128</td>\n",
       "      <td>1</td>\n",
       "      <td>{'RestaurantsReservations': 'True', 'GoodForMe...</td>\n",
       "      <td>Specialty Food, Restaurants, Dim Sum, Imported...</td>\n",
       "      <td>{'Monday': '9:0-0:0', 'Tuesday': '9:0-0:0', 'W...</td>\n",
       "    </tr>\n",
       "    <tr>\n",
       "      <th>2</th>\n",
       "      <td>gnKjwL_1w79qoiV3IC_xQQ</td>\n",
       "      <td>Musashi Japanese Restaurant</td>\n",
       "      <td>10110 Johnston Rd, Ste 15</td>\n",
       "      <td>Charlotte</td>\n",
       "      <td>NC</td>\n",
       "      <td>28210</td>\n",
       "      <td>35.092564</td>\n",
       "      <td>-80.859132</td>\n",
       "      <td>4.0</td>\n",
       "      <td>170</td>\n",
       "      <td>1</td>\n",
       "      <td>{'GoodForKids': 'True', 'NoiseLevel': 'u'avera...</td>\n",
       "      <td>Sushi Bars, Restaurants, Japanese</td>\n",
       "      <td>{'Monday': '17:30-21:30', 'Wednesday': '17:30-...</td>\n",
       "    </tr>\n",
       "  </tbody>\n",
       "</table>\n",
       "</div>"
      ],
      "text/plain": [
       "              business_id                         name  \\\n",
       "0  1SWheh84yJXfytovILXOAQ   Arizona Biltmore Golf Club   \n",
       "1  QXAEGFB4oINsVuTFxEYKFQ   Emerald Chinese Restaurant   \n",
       "2  gnKjwL_1w79qoiV3IC_xQQ  Musashi Japanese Restaurant   \n",
       "\n",
       "                       address         city state postal_code   latitude  \\\n",
       "0  2818 E Camino Acequia Drive      Phoenix    AZ       85016  33.522143   \n",
       "1         30 Eglinton Avenue W  Mississauga    ON     L5R 3E7  43.605499   \n",
       "2    10110 Johnston Rd, Ste 15    Charlotte    NC       28210  35.092564   \n",
       "\n",
       "    longitude  stars  review_count  is_open  \\\n",
       "0 -112.018481    3.0             5        0   \n",
       "1  -79.652289    2.5           128        1   \n",
       "2  -80.859132    4.0           170        1   \n",
       "\n",
       "                                          attributes  \\\n",
       "0                           {'GoodForKids': 'False'}   \n",
       "1  {'RestaurantsReservations': 'True', 'GoodForMe...   \n",
       "2  {'GoodForKids': 'True', 'NoiseLevel': 'u'avera...   \n",
       "\n",
       "                                          categories  \\\n",
       "0                                  Golf, Active Life   \n",
       "1  Specialty Food, Restaurants, Dim Sum, Imported...   \n",
       "2                  Sushi Bars, Restaurants, Japanese   \n",
       "\n",
       "                                               hours  \n",
       "0                                               None  \n",
       "1  {'Monday': '9:0-0:0', 'Tuesday': '9:0-0:0', 'W...  \n",
       "2  {'Monday': '17:30-21:30', 'Wednesday': '17:30-...  "
      ]
     },
     "execution_count": 2,
     "metadata": {},
     "output_type": "execute_result"
    }
   ],
   "source": [
    "#business_json_path = './yelp_dataset/business.json'\n",
    "df_b = pd.read_json(business_json_path, lines=True)\n",
    "df_b.head(3)"
   ]
  },
  {
   "cell_type": "code",
   "execution_count": 3,
   "metadata": {},
   "outputs": [
    {
     "data": {
      "text/plain": [
       "(192609, 14)"
      ]
     },
     "execution_count": 3,
     "metadata": {},
     "output_type": "execute_result"
    }
   ],
   "source": [
    "df_b.shape"
   ]
  },
  {
   "cell_type": "code",
   "execution_count": 4,
   "metadata": {
    "scrolled": true
   },
   "outputs": [
    {
     "data": {
      "text/plain": [
       "Index(['business_id', 'name', 'address', 'city', 'state', 'postal_code',\n",
       "       'latitude', 'longitude', 'stars', 'review_count', 'is_open',\n",
       "       'attributes', 'categories', 'hours'],\n",
       "      dtype='object')"
      ]
     },
     "execution_count": 4,
     "metadata": {},
     "output_type": "execute_result"
    }
   ],
   "source": [
    "df_b.columns"
   ]
  },
  {
   "cell_type": "code",
   "execution_count": 5,
   "metadata": {},
   "outputs": [],
   "source": [
    "#we only want to look at businesses that are still open\n",
    "# 1 = open, 0 = closed\n",
    "df_b = df_b[df_b['is_open']==1]"
   ]
  },
  {
   "cell_type": "code",
   "execution_count": 6,
   "metadata": {},
   "outputs": [
    {
     "data": {
      "text/plain": [
       "1         1\n",
       "2         1\n",
       "3         1\n",
       "4         1\n",
       "5         1\n",
       "         ..\n",
       "192603    1\n",
       "192604    1\n",
       "192605    1\n",
       "192606    1\n",
       "192607    1\n",
       "Name: is_open, Length: 158525, dtype: int64"
      ]
     },
     "execution_count": 6,
     "metadata": {},
     "output_type": "execute_result"
    }
   ],
   "source": [
    "#double checking to see if only 1s are present. We only want business that are open\n",
    "df_b['is_open']"
   ]
  },
  {
   "cell_type": "code",
   "execution_count": 7,
   "metadata": {},
   "outputs": [
    {
     "data": {
      "text/plain": [
       "(158525, 14)"
      ]
     },
     "execution_count": 7,
     "metadata": {},
     "output_type": "execute_result"
    }
   ],
   "source": [
    "#looking at businesses that are open drops the total observations down ~ 34_000 rows \n",
    "df_b.shape"
   ]
  },
  {
   "cell_type": "code",
   "execution_count": 8,
   "metadata": {},
   "outputs": [],
   "source": [
    "#dropping columns that are \n",
    "drop_columns = ['hours','is_open','review_count']\n",
    "df_b = df_b.drop(drop_columns, axis=1)"
   ]
  },
  {
   "cell_type": "code",
   "execution_count": 9,
   "metadata": {},
   "outputs": [
    {
     "data": {
      "text/plain": [
       "(158525, 11)"
      ]
     },
     "execution_count": 9,
     "metadata": {},
     "output_type": "execute_result"
    }
   ],
   "source": [
    "#shape after dropping 3 variables/columns\n",
    "df_b.shape"
   ]
  },
  {
   "cell_type": "code",
   "execution_count": 10,
   "metadata": {},
   "outputs": [
    {
     "data": {
      "text/html": [
       "<div>\n",
       "<style scoped>\n",
       "    .dataframe tbody tr th:only-of-type {\n",
       "        vertical-align: middle;\n",
       "    }\n",
       "\n",
       "    .dataframe tbody tr th {\n",
       "        vertical-align: top;\n",
       "    }\n",
       "\n",
       "    .dataframe thead th {\n",
       "        text-align: right;\n",
       "    }\n",
       "</style>\n",
       "<table border=\"1\" class=\"dataframe\">\n",
       "  <thead>\n",
       "    <tr style=\"text-align: right;\">\n",
       "      <th></th>\n",
       "      <th>1</th>\n",
       "      <th>2</th>\n",
       "      <th>3</th>\n",
       "      <th>4</th>\n",
       "    </tr>\n",
       "  </thead>\n",
       "  <tbody>\n",
       "    <tr>\n",
       "      <th>business_id</th>\n",
       "      <td>QXAEGFB4oINsVuTFxEYKFQ</td>\n",
       "      <td>gnKjwL_1w79qoiV3IC_xQQ</td>\n",
       "      <td>xvX2CttrVhyG2z1dFg_0xw</td>\n",
       "      <td>HhyxOkGAM07SRYtlQ4wMFQ</td>\n",
       "    </tr>\n",
       "    <tr>\n",
       "      <th>name</th>\n",
       "      <td>Emerald Chinese Restaurant</td>\n",
       "      <td>Musashi Japanese Restaurant</td>\n",
       "      <td>Farmers Insurance - Paul Lorenz</td>\n",
       "      <td>Queen City Plumbing</td>\n",
       "    </tr>\n",
       "    <tr>\n",
       "      <th>address</th>\n",
       "      <td>30 Eglinton Avenue W</td>\n",
       "      <td>10110 Johnston Rd, Ste 15</td>\n",
       "      <td>15655 W Roosevelt St, Ste 237</td>\n",
       "      <td>4209 Stuart Andrew Blvd, Ste F</td>\n",
       "    </tr>\n",
       "    <tr>\n",
       "      <th>city</th>\n",
       "      <td>Mississauga</td>\n",
       "      <td>Charlotte</td>\n",
       "      <td>Goodyear</td>\n",
       "      <td>Charlotte</td>\n",
       "    </tr>\n",
       "    <tr>\n",
       "      <th>state</th>\n",
       "      <td>ON</td>\n",
       "      <td>NC</td>\n",
       "      <td>AZ</td>\n",
       "      <td>NC</td>\n",
       "    </tr>\n",
       "    <tr>\n",
       "      <th>postal_code</th>\n",
       "      <td>L5R 3E7</td>\n",
       "      <td>28210</td>\n",
       "      <td>85338</td>\n",
       "      <td>28217</td>\n",
       "    </tr>\n",
       "    <tr>\n",
       "      <th>latitude</th>\n",
       "      <td>43.6055</td>\n",
       "      <td>35.0926</td>\n",
       "      <td>33.4556</td>\n",
       "      <td>35.19</td>\n",
       "    </tr>\n",
       "    <tr>\n",
       "      <th>longitude</th>\n",
       "      <td>-79.6523</td>\n",
       "      <td>-80.8591</td>\n",
       "      <td>-112.396</td>\n",
       "      <td>-80.8872</td>\n",
       "    </tr>\n",
       "    <tr>\n",
       "      <th>stars</th>\n",
       "      <td>2.5</td>\n",
       "      <td>4</td>\n",
       "      <td>5</td>\n",
       "      <td>4</td>\n",
       "    </tr>\n",
       "    <tr>\n",
       "      <th>attributes</th>\n",
       "      <td>{'RestaurantsReservations': 'True', 'GoodForMe...</td>\n",
       "      <td>{'GoodForKids': 'True', 'NoiseLevel': 'u'avera...</td>\n",
       "      <td>None</td>\n",
       "      <td>{'BusinessAcceptsBitcoin': 'False', 'ByAppoint...</td>\n",
       "    </tr>\n",
       "    <tr>\n",
       "      <th>categories</th>\n",
       "      <td>Specialty Food, Restaurants, Dim Sum, Imported...</td>\n",
       "      <td>Sushi Bars, Restaurants, Japanese</td>\n",
       "      <td>Insurance, Financial Services</td>\n",
       "      <td>Plumbing, Shopping, Local Services, Home Servi...</td>\n",
       "    </tr>\n",
       "  </tbody>\n",
       "</table>\n",
       "</div>"
      ],
      "text/plain": [
       "                                                             1  \\\n",
       "business_id                             QXAEGFB4oINsVuTFxEYKFQ   \n",
       "name                                Emerald Chinese Restaurant   \n",
       "address                                   30 Eglinton Avenue W   \n",
       "city                                               Mississauga   \n",
       "state                                                       ON   \n",
       "postal_code                                            L5R 3E7   \n",
       "latitude                                               43.6055   \n",
       "longitude                                             -79.6523   \n",
       "stars                                                      2.5   \n",
       "attributes   {'RestaurantsReservations': 'True', 'GoodForMe...   \n",
       "categories   Specialty Food, Restaurants, Dim Sum, Imported...   \n",
       "\n",
       "                                                             2  \\\n",
       "business_id                             gnKjwL_1w79qoiV3IC_xQQ   \n",
       "name                               Musashi Japanese Restaurant   \n",
       "address                              10110 Johnston Rd, Ste 15   \n",
       "city                                                 Charlotte   \n",
       "state                                                       NC   \n",
       "postal_code                                              28210   \n",
       "latitude                                               35.0926   \n",
       "longitude                                             -80.8591   \n",
       "stars                                                        4   \n",
       "attributes   {'GoodForKids': 'True', 'NoiseLevel': 'u'avera...   \n",
       "categories                   Sushi Bars, Restaurants, Japanese   \n",
       "\n",
       "                                           3  \\\n",
       "business_id           xvX2CttrVhyG2z1dFg_0xw   \n",
       "name         Farmers Insurance - Paul Lorenz   \n",
       "address        15655 W Roosevelt St, Ste 237   \n",
       "city                                Goodyear   \n",
       "state                                     AZ   \n",
       "postal_code                            85338   \n",
       "latitude                             33.4556   \n",
       "longitude                           -112.396   \n",
       "stars                                      5   \n",
       "attributes                              None   \n",
       "categories     Insurance, Financial Services   \n",
       "\n",
       "                                                             4  \n",
       "business_id                             HhyxOkGAM07SRYtlQ4wMFQ  \n",
       "name                                       Queen City Plumbing  \n",
       "address                         4209 Stuart Andrew Blvd, Ste F  \n",
       "city                                                 Charlotte  \n",
       "state                                                       NC  \n",
       "postal_code                                              28217  \n",
       "latitude                                                 35.19  \n",
       "longitude                                             -80.8872  \n",
       "stars                                                        4  \n",
       "attributes   {'BusinessAcceptsBitcoin': 'False', 'ByAppoint...  \n",
       "categories   Plumbing, Shopping, Local Services, Home Servi...  "
      ]
     },
     "execution_count": 10,
     "metadata": {},
     "output_type": "execute_result"
    }
   ],
   "source": [
    "#double checking to see if those columns above have been removed\n",
    "df_b.head(4).T"
   ]
  },
  {
   "cell_type": "code",
   "execution_count": 11,
   "metadata": {},
   "outputs": [
    {
     "data": {
      "text/plain": [
       "business_id     object\n",
       "name            object\n",
       "address         object\n",
       "city            object\n",
       "state           object\n",
       "postal_code     object\n",
       "latitude       float64\n",
       "longitude      float64\n",
       "stars          float64\n",
       "attributes      object\n",
       "categories      object\n",
       "dtype: object"
      ]
     },
     "execution_count": 11,
     "metadata": {},
     "output_type": "execute_result"
    }
   ],
   "source": [
    "#after checking the dtypes, i noticed that the only thing that looked strange to me was postal code being an object. \n",
    "#After looking further into this, I confirmed that postal codes in Canada can be a mix of numbers and letters.\n",
    "df_b.dtypes"
   ]
  },
  {
   "cell_type": "code",
   "execution_count": 12,
   "metadata": {},
   "outputs": [
    {
     "data": {
      "text/html": [
       "<div>\n",
       "<style scoped>\n",
       "    .dataframe tbody tr th:only-of-type {\n",
       "        vertical-align: middle;\n",
       "    }\n",
       "\n",
       "    .dataframe tbody tr th {\n",
       "        vertical-align: top;\n",
       "    }\n",
       "\n",
       "    .dataframe thead th {\n",
       "        text-align: right;\n",
       "    }\n",
       "</style>\n",
       "<table border=\"1\" class=\"dataframe\">\n",
       "  <thead>\n",
       "    <tr style=\"text-align: right;\">\n",
       "      <th></th>\n",
       "      <th>latitude</th>\n",
       "      <th>longitude</th>\n",
       "      <th>stars</th>\n",
       "    </tr>\n",
       "  </thead>\n",
       "  <tbody>\n",
       "    <tr>\n",
       "      <th>count</th>\n",
       "      <td>158525.000000</td>\n",
       "      <td>158525.000000</td>\n",
       "      <td>158525.000000</td>\n",
       "    </tr>\n",
       "    <tr>\n",
       "      <th>mean</th>\n",
       "      <td>38.518946</td>\n",
       "      <td>-97.601829</td>\n",
       "      <td>3.609787</td>\n",
       "    </tr>\n",
       "    <tr>\n",
       "      <th>std</th>\n",
       "      <td>4.944150</td>\n",
       "      <td>16.686633</td>\n",
       "      <td>1.038052</td>\n",
       "    </tr>\n",
       "    <tr>\n",
       "      <th>min</th>\n",
       "      <td>33.204642</td>\n",
       "      <td>-115.493471</td>\n",
       "      <td>1.000000</td>\n",
       "    </tr>\n",
       "    <tr>\n",
       "      <th>25%</th>\n",
       "      <td>33.637105</td>\n",
       "      <td>-112.274157</td>\n",
       "      <td>3.000000</td>\n",
       "    </tr>\n",
       "    <tr>\n",
       "      <th>50%</th>\n",
       "      <td>36.144678</td>\n",
       "      <td>-111.757015</td>\n",
       "      <td>3.500000</td>\n",
       "    </tr>\n",
       "    <tr>\n",
       "      <th>75%</th>\n",
       "      <td>43.580251</td>\n",
       "      <td>-80.002164</td>\n",
       "      <td>4.500000</td>\n",
       "    </tr>\n",
       "    <tr>\n",
       "      <th>max</th>\n",
       "      <td>51.299943</td>\n",
       "      <td>-72.934296</td>\n",
       "      <td>5.000000</td>\n",
       "    </tr>\n",
       "  </tbody>\n",
       "</table>\n",
       "</div>"
      ],
      "text/plain": [
       "            latitude      longitude          stars\n",
       "count  158525.000000  158525.000000  158525.000000\n",
       "mean       38.518946     -97.601829       3.609787\n",
       "std         4.944150      16.686633       1.038052\n",
       "min        33.204642    -115.493471       1.000000\n",
       "25%        33.637105    -112.274157       3.000000\n",
       "50%        36.144678    -111.757015       3.500000\n",
       "75%        43.580251     -80.002164       4.500000\n",
       "max        51.299943     -72.934296       5.000000"
      ]
     },
     "execution_count": 12,
     "metadata": {},
     "output_type": "execute_result"
    }
   ],
   "source": [
    "df_b.describe()"
   ]
  },
  {
   "cell_type": "code",
   "execution_count": 13,
   "metadata": {},
   "outputs": [
    {
     "data": {
      "text/plain": [
       "business_id        0\n",
       "name               0\n",
       "address            0\n",
       "city               0\n",
       "state              0\n",
       "postal_code        0\n",
       "latitude           0\n",
       "longitude          0\n",
       "stars              0\n",
       "attributes     25773\n",
       "categories       461\n",
       "dtype: int64"
      ]
     },
     "execution_count": 13,
     "metadata": {},
     "output_type": "execute_result"
    }
   ],
   "source": [
    "df_b.isnull().sum()"
   ]
  },
  {
   "cell_type": "code",
   "execution_count": 14,
   "metadata": {},
   "outputs": [
    {
     "data": {
      "text/plain": [
       "Index(['business_id', 'name', 'address', 'city', 'state', 'postal_code',\n",
       "       'latitude', 'longitude', 'stars', 'attributes', 'categories'],\n",
       "      dtype='object')"
      ]
     },
     "execution_count": 14,
     "metadata": {},
     "output_type": "execute_result"
    }
   ],
   "source": [
    "#double checking to make sure everything worked and it did\n",
    "df_b.columns"
   ]
  },
  {
   "cell_type": "code",
   "execution_count": 15,
   "metadata": {},
   "outputs": [
    {
     "data": {
      "text/plain": [
       "array(['Specialty Food, Restaurants, Dim Sum, Imported Food, Food, Chinese, Ethnic Food, Seafood',\n",
       "       'Sushi Bars, Restaurants, Japanese',\n",
       "       'Insurance, Financial Services', ...,\n",
       "       'Golf, Hotels, Day Spas, Hotels & Travel, Event Planning & Services, Beauty & Spas, Active Life, Venues & Event Spaces, Resorts',\n",
       "       'Water Purification Services, Water Heater Installation/Repair, Home Services, Plumbing',\n",
       "       'Home Services, Contractors, Landscaping, Masonry/Concrete, Landscape Architects'],\n",
       "      dtype=object)"
      ]
     },
     "execution_count": 15,
     "metadata": {},
     "output_type": "execute_result"
    }
   ],
   "source": [
    "#I only want to work with restaurants\n",
    "df_b['categories'].unique()"
   ]
  },
  {
   "cell_type": "code",
   "execution_count": 16,
   "metadata": {},
   "outputs": [],
   "source": [
    "df_explode = df_b.assign(categories = df_b.categories\n",
    "                         .str.split(', ')).explode('categories')"
   ]
  },
  {
   "cell_type": "code",
   "execution_count": 17,
   "metadata": {},
   "outputs": [
    {
     "data": {
      "text/plain": [
       "Restaurants            42237\n",
       "Shopping               26734\n",
       "Food                   23208\n",
       "Home Services          18455\n",
       "Beauty & Spas          16545\n",
       "                       ...  \n",
       "Linens                     1\n",
       "Ceremonial Clothing        1\n",
       "Geneticists                1\n",
       "Homeopathic                1\n",
       "Entertainment Law          1\n",
       "Name: categories, Length: 1290, dtype: int64"
      ]
     },
     "execution_count": 17,
     "metadata": {},
     "output_type": "execute_result"
    }
   ],
   "source": [
    "#i only want look @ restaurants\n",
    "df_explode.categories.value_counts()"
   ]
  },
  {
   "cell_type": "code",
   "execution_count": 18,
   "metadata": {},
   "outputs": [],
   "source": [
    "restaurants = df_b[df_b['categories'].str.contains(\n",
    "              'Restaurants',\n",
    "              case=False, na=False)]"
   ]
  },
  {
   "cell_type": "code",
   "execution_count": 19,
   "metadata": {
    "scrolled": true
   },
   "outputs": [
    {
     "data": {
      "text/html": [
       "<div>\n",
       "<style scoped>\n",
       "    .dataframe tbody tr th:only-of-type {\n",
       "        vertical-align: middle;\n",
       "    }\n",
       "\n",
       "    .dataframe tbody tr th {\n",
       "        vertical-align: top;\n",
       "    }\n",
       "\n",
       "    .dataframe thead th {\n",
       "        text-align: right;\n",
       "    }\n",
       "</style>\n",
       "<table border=\"1\" class=\"dataframe\">\n",
       "  <thead>\n",
       "    <tr style=\"text-align: right;\">\n",
       "      <th></th>\n",
       "      <th>business_id</th>\n",
       "      <th>name</th>\n",
       "      <th>address</th>\n",
       "      <th>city</th>\n",
       "      <th>state</th>\n",
       "      <th>postal_code</th>\n",
       "      <th>latitude</th>\n",
       "      <th>longitude</th>\n",
       "      <th>stars</th>\n",
       "      <th>attributes</th>\n",
       "      <th>categories</th>\n",
       "    </tr>\n",
       "  </thead>\n",
       "  <tbody>\n",
       "    <tr>\n",
       "      <th>1</th>\n",
       "      <td>QXAEGFB4oINsVuTFxEYKFQ</td>\n",
       "      <td>Emerald Chinese Restaurant</td>\n",
       "      <td>30 Eglinton Avenue W</td>\n",
       "      <td>Mississauga</td>\n",
       "      <td>ON</td>\n",
       "      <td>L5R 3E7</td>\n",
       "      <td>43.605499</td>\n",
       "      <td>-79.652289</td>\n",
       "      <td>2.5</td>\n",
       "      <td>{'RestaurantsReservations': 'True', 'GoodForMe...</td>\n",
       "      <td>Specialty Food, Restaurants, Dim Sum, Imported...</td>\n",
       "    </tr>\n",
       "    <tr>\n",
       "      <th>2</th>\n",
       "      <td>gnKjwL_1w79qoiV3IC_xQQ</td>\n",
       "      <td>Musashi Japanese Restaurant</td>\n",
       "      <td>10110 Johnston Rd, Ste 15</td>\n",
       "      <td>Charlotte</td>\n",
       "      <td>NC</td>\n",
       "      <td>28210</td>\n",
       "      <td>35.092564</td>\n",
       "      <td>-80.859132</td>\n",
       "      <td>4.0</td>\n",
       "      <td>{'GoodForKids': 'True', 'NoiseLevel': 'u'avera...</td>\n",
       "      <td>Sushi Bars, Restaurants, Japanese</td>\n",
       "    </tr>\n",
       "    <tr>\n",
       "      <th>11</th>\n",
       "      <td>1Dfx3zM-rW4n-31KeC8sJg</td>\n",
       "      <td>Taco Bell</td>\n",
       "      <td>2450 E Indian School Rd</td>\n",
       "      <td>Phoenix</td>\n",
       "      <td>AZ</td>\n",
       "      <td>85016</td>\n",
       "      <td>33.495194</td>\n",
       "      <td>-112.028588</td>\n",
       "      <td>3.0</td>\n",
       "      <td>{'RestaurantsTakeOut': 'True', 'BusinessParkin...</td>\n",
       "      <td>Restaurants, Breakfast &amp; Brunch, Mexican, Taco...</td>\n",
       "    </tr>\n",
       "  </tbody>\n",
       "</table>\n",
       "</div>"
      ],
      "text/plain": [
       "               business_id                         name  \\\n",
       "1   QXAEGFB4oINsVuTFxEYKFQ   Emerald Chinese Restaurant   \n",
       "2   gnKjwL_1w79qoiV3IC_xQQ  Musashi Japanese Restaurant   \n",
       "11  1Dfx3zM-rW4n-31KeC8sJg                    Taco Bell   \n",
       "\n",
       "                      address         city state postal_code   latitude  \\\n",
       "1        30 Eglinton Avenue W  Mississauga    ON     L5R 3E7  43.605499   \n",
       "2   10110 Johnston Rd, Ste 15    Charlotte    NC       28210  35.092564   \n",
       "11    2450 E Indian School Rd      Phoenix    AZ       85016  33.495194   \n",
       "\n",
       "     longitude  stars                                         attributes  \\\n",
       "1   -79.652289    2.5  {'RestaurantsReservations': 'True', 'GoodForMe...   \n",
       "2   -80.859132    4.0  {'GoodForKids': 'True', 'NoiseLevel': 'u'avera...   \n",
       "11 -112.028588    3.0  {'RestaurantsTakeOut': 'True', 'BusinessParkin...   \n",
       "\n",
       "                                           categories  \n",
       "1   Specialty Food, Restaurants, Dim Sum, Imported...  \n",
       "2                   Sushi Bars, Restaurants, Japanese  \n",
       "11  Restaurants, Breakfast & Brunch, Mexican, Taco...  "
      ]
     },
     "execution_count": 19,
     "metadata": {},
     "output_type": "execute_result"
    }
   ],
   "source": [
    "restaurants.head(3)"
   ]
  },
  {
   "cell_type": "code",
   "execution_count": 20,
   "metadata": {},
   "outputs": [
    {
     "data": {
      "text/plain": [
       "(42237, 11)"
      ]
     },
     "execution_count": 20,
     "metadata": {},
     "output_type": "execute_result"
    }
   ],
   "source": [
    "#total amount of restaurants in this data set. drops the dataset ~ 116_000 observations (after excluding other types of \n",
    "#businesses)\n",
    "restaurants.shape"
   ]
  },
  {
   "cell_type": "markdown",
   "metadata": {},
   "source": [
    "#### Uploading Review.json dataset"
   ]
  },
  {
   "cell_type": "code",
   "execution_count": 21,
   "metadata": {},
   "outputs": [],
   "source": [
    "# Setting up local path for yelp data\n",
    "#review_json_path = './yelp_dataset/review.json'"
   ]
  },
  {
   "cell_type": "code",
   "execution_count": 22,
   "metadata": {},
   "outputs": [],
   "source": [
    "#loading this larger dataset will most like crash our computer, we want to segment this file into smaller chunks.\n",
    "# Set chunk size (smaller if dataset is smaller)\n",
    "# 2019 Yelp review.json has more than 6 million reviews(rows)\n",
    "size = 1000000\n",
    "review = pd.read_json(review_json_path, lines=True,\n",
    "                      # identifying the data type of each column can reduce memory usage\n",
    "                      dtype={'review_id':str,'user_id':str,'business_id':str,'stars':int,\n",
    "                             'date':str,'text':str,'useful':int,'funny':int,'cool':int},\n",
    "                      chunksize=size)"
   ]
  },
  {
   "cell_type": "markdown",
   "metadata": {},
   "source": [
    "#### Merging Review.json and Business.json file"
   ]
  },
  {
   "cell_type": "code",
   "execution_count": 23,
   "metadata": {},
   "outputs": [
    {
     "name": "stdout",
     "output_type": "stream",
     "text": [
      "542186 out of 1,000,000 related reviews\n",
      "528749 out of 1,000,000 related reviews\n",
      "536809 out of 1,000,000 related reviews\n",
      "513981 out of 1,000,000 related reviews\n",
      "543770 out of 1,000,000 related reviews\n",
      "538407 out of 1,000,000 related reviews\n",
      "362861 out of 1,000,000 related reviews\n"
     ]
    }
   ],
   "source": [
    "# There are multiple chunks to be read\n",
    "chunk_list = []\n",
    "for row in review:\n",
    "    # Drop columns that aren't needed\n",
    "    row = row.drop(['review_id','useful','funny','cool'], axis=1)\n",
    "    # Renaming column name to avoid conflict with business overall star rating\n",
    "    row = row.rename(columns={'stars': 'review_stars'})\n",
    "    # Inner merge with edited business file so only reviews related to the business remain\n",
    "    row_merged = pd.merge(restaurants, row, on='business_id', how='inner')\n",
    "    # Show feedback on progress\n",
    "    print(f\"{row_merged.shape[0]} out of {size:,} related reviews\")\n",
    "    chunk_list.append(row_merged)\n",
    "# After trimming down the review file, concatenate all relevant data back to one dataframe\n",
    "df = pd.concat(chunk_list, ignore_index=True, join='outer', axis=0)"
   ]
  },
  {
   "cell_type": "code",
   "execution_count": 24,
   "metadata": {},
   "outputs": [
    {
     "data": {
      "text/html": [
       "<div>\n",
       "<style scoped>\n",
       "    .dataframe tbody tr th:only-of-type {\n",
       "        vertical-align: middle;\n",
       "    }\n",
       "\n",
       "    .dataframe tbody tr th {\n",
       "        vertical-align: top;\n",
       "    }\n",
       "\n",
       "    .dataframe thead th {\n",
       "        text-align: right;\n",
       "    }\n",
       "</style>\n",
       "<table border=\"1\" class=\"dataframe\">\n",
       "  <thead>\n",
       "    <tr style=\"text-align: right;\">\n",
       "      <th></th>\n",
       "      <th>business_id</th>\n",
       "      <th>name</th>\n",
       "      <th>address</th>\n",
       "      <th>city</th>\n",
       "      <th>state</th>\n",
       "      <th>postal_code</th>\n",
       "      <th>latitude</th>\n",
       "      <th>longitude</th>\n",
       "      <th>stars</th>\n",
       "      <th>attributes</th>\n",
       "      <th>categories</th>\n",
       "      <th>user_id</th>\n",
       "      <th>review_stars</th>\n",
       "      <th>text</th>\n",
       "      <th>date</th>\n",
       "    </tr>\n",
       "  </thead>\n",
       "  <tbody>\n",
       "    <tr>\n",
       "      <th>0</th>\n",
       "      <td>QXAEGFB4oINsVuTFxEYKFQ</td>\n",
       "      <td>Emerald Chinese Restaurant</td>\n",
       "      <td>30 Eglinton Avenue W</td>\n",
       "      <td>Mississauga</td>\n",
       "      <td>ON</td>\n",
       "      <td>L5R 3E7</td>\n",
       "      <td>43.605499</td>\n",
       "      <td>-79.652289</td>\n",
       "      <td>2.5</td>\n",
       "      <td>{'RestaurantsReservations': 'True', 'GoodForMe...</td>\n",
       "      <td>Specialty Food, Restaurants, Dim Sum, Imported...</td>\n",
       "      <td>2K62MJ4CJ19L8Tp5pRfjfQ</td>\n",
       "      <td>3</td>\n",
       "      <td>My girlfriend and I went for dinner at Emerald...</td>\n",
       "      <td>2017-01-27 21:54:30</td>\n",
       "    </tr>\n",
       "    <tr>\n",
       "      <th>1</th>\n",
       "      <td>QXAEGFB4oINsVuTFxEYKFQ</td>\n",
       "      <td>Emerald Chinese Restaurant</td>\n",
       "      <td>30 Eglinton Avenue W</td>\n",
       "      <td>Mississauga</td>\n",
       "      <td>ON</td>\n",
       "      <td>L5R 3E7</td>\n",
       "      <td>43.605499</td>\n",
       "      <td>-79.652289</td>\n",
       "      <td>2.5</td>\n",
       "      <td>{'RestaurantsReservations': 'True', 'GoodForMe...</td>\n",
       "      <td>Specialty Food, Restaurants, Dim Sum, Imported...</td>\n",
       "      <td>A0kENtCCoVT3m7T35zb2Vg</td>\n",
       "      <td>3</td>\n",
       "      <td>We've always been there on a Sunday so we were...</td>\n",
       "      <td>2013-06-24 23:11:30</td>\n",
       "    </tr>\n",
       "    <tr>\n",
       "      <th>2</th>\n",
       "      <td>QXAEGFB4oINsVuTFxEYKFQ</td>\n",
       "      <td>Emerald Chinese Restaurant</td>\n",
       "      <td>30 Eglinton Avenue W</td>\n",
       "      <td>Mississauga</td>\n",
       "      <td>ON</td>\n",
       "      <td>L5R 3E7</td>\n",
       "      <td>43.605499</td>\n",
       "      <td>-79.652289</td>\n",
       "      <td>2.5</td>\n",
       "      <td>{'RestaurantsReservations': 'True', 'GoodForMe...</td>\n",
       "      <td>Specialty Food, Restaurants, Dim Sum, Imported...</td>\n",
       "      <td>SuOLY03LW5ZcnynKhbTydA</td>\n",
       "      <td>3</td>\n",
       "      <td>***No automatic doors, not baby friendly!*** I...</td>\n",
       "      <td>2016-01-04 12:59:22</td>\n",
       "    </tr>\n",
       "    <tr>\n",
       "      <th>3</th>\n",
       "      <td>QXAEGFB4oINsVuTFxEYKFQ</td>\n",
       "      <td>Emerald Chinese Restaurant</td>\n",
       "      <td>30 Eglinton Avenue W</td>\n",
       "      <td>Mississauga</td>\n",
       "      <td>ON</td>\n",
       "      <td>L5R 3E7</td>\n",
       "      <td>43.605499</td>\n",
       "      <td>-79.652289</td>\n",
       "      <td>2.5</td>\n",
       "      <td>{'RestaurantsReservations': 'True', 'GoodForMe...</td>\n",
       "      <td>Specialty Food, Restaurants, Dim Sum, Imported...</td>\n",
       "      <td>lymyUak6KNcNKoDbK87MiQ</td>\n",
       "      <td>1</td>\n",
       "      <td>Horrible service,\\nI went there tonight with m...</td>\n",
       "      <td>2014-05-09 02:38:43</td>\n",
       "    </tr>\n",
       "    <tr>\n",
       "      <th>4</th>\n",
       "      <td>QXAEGFB4oINsVuTFxEYKFQ</td>\n",
       "      <td>Emerald Chinese Restaurant</td>\n",
       "      <td>30 Eglinton Avenue W</td>\n",
       "      <td>Mississauga</td>\n",
       "      <td>ON</td>\n",
       "      <td>L5R 3E7</td>\n",
       "      <td>43.605499</td>\n",
       "      <td>-79.652289</td>\n",
       "      <td>2.5</td>\n",
       "      <td>{'RestaurantsReservations': 'True', 'GoodForMe...</td>\n",
       "      <td>Specialty Food, Restaurants, Dim Sum, Imported...</td>\n",
       "      <td>6vU0I5XgCv9OQHZ76rV6qw</td>\n",
       "      <td>4</td>\n",
       "      <td>One of the gauges of a good Chinese restaurant...</td>\n",
       "      <td>2011-03-21 14:39:55</td>\n",
       "    </tr>\n",
       "  </tbody>\n",
       "</table>\n",
       "</div>"
      ],
      "text/plain": [
       "              business_id                        name               address  \\\n",
       "0  QXAEGFB4oINsVuTFxEYKFQ  Emerald Chinese Restaurant  30 Eglinton Avenue W   \n",
       "1  QXAEGFB4oINsVuTFxEYKFQ  Emerald Chinese Restaurant  30 Eglinton Avenue W   \n",
       "2  QXAEGFB4oINsVuTFxEYKFQ  Emerald Chinese Restaurant  30 Eglinton Avenue W   \n",
       "3  QXAEGFB4oINsVuTFxEYKFQ  Emerald Chinese Restaurant  30 Eglinton Avenue W   \n",
       "4  QXAEGFB4oINsVuTFxEYKFQ  Emerald Chinese Restaurant  30 Eglinton Avenue W   \n",
       "\n",
       "          city state postal_code   latitude  longitude  stars  \\\n",
       "0  Mississauga    ON     L5R 3E7  43.605499 -79.652289    2.5   \n",
       "1  Mississauga    ON     L5R 3E7  43.605499 -79.652289    2.5   \n",
       "2  Mississauga    ON     L5R 3E7  43.605499 -79.652289    2.5   \n",
       "3  Mississauga    ON     L5R 3E7  43.605499 -79.652289    2.5   \n",
       "4  Mississauga    ON     L5R 3E7  43.605499 -79.652289    2.5   \n",
       "\n",
       "                                          attributes  \\\n",
       "0  {'RestaurantsReservations': 'True', 'GoodForMe...   \n",
       "1  {'RestaurantsReservations': 'True', 'GoodForMe...   \n",
       "2  {'RestaurantsReservations': 'True', 'GoodForMe...   \n",
       "3  {'RestaurantsReservations': 'True', 'GoodForMe...   \n",
       "4  {'RestaurantsReservations': 'True', 'GoodForMe...   \n",
       "\n",
       "                                          categories                 user_id  \\\n",
       "0  Specialty Food, Restaurants, Dim Sum, Imported...  2K62MJ4CJ19L8Tp5pRfjfQ   \n",
       "1  Specialty Food, Restaurants, Dim Sum, Imported...  A0kENtCCoVT3m7T35zb2Vg   \n",
       "2  Specialty Food, Restaurants, Dim Sum, Imported...  SuOLY03LW5ZcnynKhbTydA   \n",
       "3  Specialty Food, Restaurants, Dim Sum, Imported...  lymyUak6KNcNKoDbK87MiQ   \n",
       "4  Specialty Food, Restaurants, Dim Sum, Imported...  6vU0I5XgCv9OQHZ76rV6qw   \n",
       "\n",
       "   review_stars                                               text  \\\n",
       "0             3  My girlfriend and I went for dinner at Emerald...   \n",
       "1             3  We've always been there on a Sunday so we were...   \n",
       "2             3  ***No automatic doors, not baby friendly!*** I...   \n",
       "3             1  Horrible service,\\nI went there tonight with m...   \n",
       "4             4  One of the gauges of a good Chinese restaurant...   \n",
       "\n",
       "                  date  \n",
       "0  2017-01-27 21:54:30  \n",
       "1  2013-06-24 23:11:30  \n",
       "2  2016-01-04 12:59:22  \n",
       "3  2014-05-09 02:38:43  \n",
       "4  2011-03-21 14:39:55  "
      ]
     },
     "execution_count": 24,
     "metadata": {},
     "output_type": "execute_result"
    }
   ],
   "source": [
    "df.head()"
   ]
  },
  {
   "cell_type": "code",
   "execution_count": 25,
   "metadata": {},
   "outputs": [
    {
     "data": {
      "text/html": [
       "<div>\n",
       "<style scoped>\n",
       "    .dataframe tbody tr th:only-of-type {\n",
       "        vertical-align: middle;\n",
       "    }\n",
       "\n",
       "    .dataframe tbody tr th {\n",
       "        vertical-align: top;\n",
       "    }\n",
       "\n",
       "    .dataframe thead th {\n",
       "        text-align: right;\n",
       "    }\n",
       "</style>\n",
       "<table border=\"1\" class=\"dataframe\">\n",
       "  <thead>\n",
       "    <tr style=\"text-align: right;\">\n",
       "      <th></th>\n",
       "      <th>business_id</th>\n",
       "      <th>name</th>\n",
       "      <th>address</th>\n",
       "      <th>city</th>\n",
       "      <th>state</th>\n",
       "      <th>postal_code</th>\n",
       "      <th>latitude</th>\n",
       "      <th>longitude</th>\n",
       "      <th>stars</th>\n",
       "      <th>attributes</th>\n",
       "      <th>categories</th>\n",
       "      <th>user_id</th>\n",
       "      <th>review_stars</th>\n",
       "      <th>text</th>\n",
       "      <th>date</th>\n",
       "    </tr>\n",
       "  </thead>\n",
       "  <tbody>\n",
       "    <tr>\n",
       "      <th>3566758</th>\n",
       "      <td>p1eUTUB_5hf1enoKYBV3DA</td>\n",
       "      <td>Ken Stewart's Tre Belle</td>\n",
       "      <td>1911 N Cleveland-Massillon Rd</td>\n",
       "      <td>Bath</td>\n",
       "      <td>OH</td>\n",
       "      <td>44210</td>\n",
       "      <td>41.187547</td>\n",
       "      <td>-81.635791</td>\n",
       "      <td>3.5</td>\n",
       "      <td>{'OutdoorSeating': 'True', 'BikeParking': 'Tru...</td>\n",
       "      <td>Restaurants, Italian</td>\n",
       "      <td>ZO8h27XOn_XFKLLRRrLp0g</td>\n",
       "      <td>5</td>\n",
       "      <td>When I write a review on someplace that I have...</td>\n",
       "      <td>2013-05-03 18:57:28</td>\n",
       "    </tr>\n",
       "    <tr>\n",
       "      <th>3566759</th>\n",
       "      <td>p1eUTUB_5hf1enoKYBV3DA</td>\n",
       "      <td>Ken Stewart's Tre Belle</td>\n",
       "      <td>1911 N Cleveland-Massillon Rd</td>\n",
       "      <td>Bath</td>\n",
       "      <td>OH</td>\n",
       "      <td>44210</td>\n",
       "      <td>41.187547</td>\n",
       "      <td>-81.635791</td>\n",
       "      <td>3.5</td>\n",
       "      <td>{'OutdoorSeating': 'True', 'BikeParking': 'Tru...</td>\n",
       "      <td>Restaurants, Italian</td>\n",
       "      <td>mwual7bROpwhZ3fu_GiPtQ</td>\n",
       "      <td>5</td>\n",
       "      <td>We stopped in at Tre Belle on a Tuesday evenin...</td>\n",
       "      <td>2013-12-04 01:16:42</td>\n",
       "    </tr>\n",
       "    <tr>\n",
       "      <th>3566760</th>\n",
       "      <td>p1eUTUB_5hf1enoKYBV3DA</td>\n",
       "      <td>Ken Stewart's Tre Belle</td>\n",
       "      <td>1911 N Cleveland-Massillon Rd</td>\n",
       "      <td>Bath</td>\n",
       "      <td>OH</td>\n",
       "      <td>44210</td>\n",
       "      <td>41.187547</td>\n",
       "      <td>-81.635791</td>\n",
       "      <td>3.5</td>\n",
       "      <td>{'OutdoorSeating': 'True', 'BikeParking': 'Tru...</td>\n",
       "      <td>Restaurants, Italian</td>\n",
       "      <td>WKneD6tKr18q0ey0QbHBaA</td>\n",
       "      <td>3</td>\n",
       "      <td>I wasnt impressed. The place is beautiful and ...</td>\n",
       "      <td>2012-04-25 16:51:38</td>\n",
       "    </tr>\n",
       "    <tr>\n",
       "      <th>3566761</th>\n",
       "      <td>p1eUTUB_5hf1enoKYBV3DA</td>\n",
       "      <td>Ken Stewart's Tre Belle</td>\n",
       "      <td>1911 N Cleveland-Massillon Rd</td>\n",
       "      <td>Bath</td>\n",
       "      <td>OH</td>\n",
       "      <td>44210</td>\n",
       "      <td>41.187547</td>\n",
       "      <td>-81.635791</td>\n",
       "      <td>3.5</td>\n",
       "      <td>{'OutdoorSeating': 'True', 'BikeParking': 'Tru...</td>\n",
       "      <td>Restaurants, Italian</td>\n",
       "      <td>PxB2oZXO9N_4Zo2VIPUuGA</td>\n",
       "      <td>1</td>\n",
       "      <td>Last night some friends and I dined at this es...</td>\n",
       "      <td>2018-02-22 22:32:44</td>\n",
       "    </tr>\n",
       "    <tr>\n",
       "      <th>3566762</th>\n",
       "      <td>p1eUTUB_5hf1enoKYBV3DA</td>\n",
       "      <td>Ken Stewart's Tre Belle</td>\n",
       "      <td>1911 N Cleveland-Massillon Rd</td>\n",
       "      <td>Bath</td>\n",
       "      <td>OH</td>\n",
       "      <td>44210</td>\n",
       "      <td>41.187547</td>\n",
       "      <td>-81.635791</td>\n",
       "      <td>3.5</td>\n",
       "      <td>{'OutdoorSeating': 'True', 'BikeParking': 'Tru...</td>\n",
       "      <td>Restaurants, Italian</td>\n",
       "      <td>d_wsHVzrqu8vBhDKhZtNbQ</td>\n",
       "      <td>2</td>\n",
       "      <td>First let me list the positives.  The restaura...</td>\n",
       "      <td>2009-04-23 18:38:23</td>\n",
       "    </tr>\n",
       "  </tbody>\n",
       "</table>\n",
       "</div>"
      ],
      "text/plain": [
       "                    business_id                     name  \\\n",
       "3566758  p1eUTUB_5hf1enoKYBV3DA  Ken Stewart's Tre Belle   \n",
       "3566759  p1eUTUB_5hf1enoKYBV3DA  Ken Stewart's Tre Belle   \n",
       "3566760  p1eUTUB_5hf1enoKYBV3DA  Ken Stewart's Tre Belle   \n",
       "3566761  p1eUTUB_5hf1enoKYBV3DA  Ken Stewart's Tre Belle   \n",
       "3566762  p1eUTUB_5hf1enoKYBV3DA  Ken Stewart's Tre Belle   \n",
       "\n",
       "                               address  city state postal_code   latitude  \\\n",
       "3566758  1911 N Cleveland-Massillon Rd  Bath    OH       44210  41.187547   \n",
       "3566759  1911 N Cleveland-Massillon Rd  Bath    OH       44210  41.187547   \n",
       "3566760  1911 N Cleveland-Massillon Rd  Bath    OH       44210  41.187547   \n",
       "3566761  1911 N Cleveland-Massillon Rd  Bath    OH       44210  41.187547   \n",
       "3566762  1911 N Cleveland-Massillon Rd  Bath    OH       44210  41.187547   \n",
       "\n",
       "         longitude  stars                                         attributes  \\\n",
       "3566758 -81.635791    3.5  {'OutdoorSeating': 'True', 'BikeParking': 'Tru...   \n",
       "3566759 -81.635791    3.5  {'OutdoorSeating': 'True', 'BikeParking': 'Tru...   \n",
       "3566760 -81.635791    3.5  {'OutdoorSeating': 'True', 'BikeParking': 'Tru...   \n",
       "3566761 -81.635791    3.5  {'OutdoorSeating': 'True', 'BikeParking': 'Tru...   \n",
       "3566762 -81.635791    3.5  {'OutdoorSeating': 'True', 'BikeParking': 'Tru...   \n",
       "\n",
       "                   categories                 user_id  review_stars  \\\n",
       "3566758  Restaurants, Italian  ZO8h27XOn_XFKLLRRrLp0g             5   \n",
       "3566759  Restaurants, Italian  mwual7bROpwhZ3fu_GiPtQ             5   \n",
       "3566760  Restaurants, Italian  WKneD6tKr18q0ey0QbHBaA             3   \n",
       "3566761  Restaurants, Italian  PxB2oZXO9N_4Zo2VIPUuGA             1   \n",
       "3566762  Restaurants, Italian  d_wsHVzrqu8vBhDKhZtNbQ             2   \n",
       "\n",
       "                                                      text  \\\n",
       "3566758  When I write a review on someplace that I have...   \n",
       "3566759  We stopped in at Tre Belle on a Tuesday evenin...   \n",
       "3566760  I wasnt impressed. The place is beautiful and ...   \n",
       "3566761  Last night some friends and I dined at this es...   \n",
       "3566762  First let me list the positives.  The restaura...   \n",
       "\n",
       "                        date  \n",
       "3566758  2013-05-03 18:57:28  \n",
       "3566759  2013-12-04 01:16:42  \n",
       "3566760  2012-04-25 16:51:38  \n",
       "3566761  2018-02-22 22:32:44  \n",
       "3566762  2009-04-23 18:38:23  "
      ]
     },
     "execution_count": 25,
     "metadata": {},
     "output_type": "execute_result"
    }
   ],
   "source": [
    "#confirming that these are only restaurants - with the use of both head and tail methods\n",
    "df.tail()"
   ]
  },
  {
   "cell_type": "code",
   "execution_count": 26,
   "metadata": {},
   "outputs": [
    {
     "data": {
      "text/plain": [
       "(3566763, 15)"
      ]
     },
     "execution_count": 26,
     "metadata": {},
     "output_type": "execute_result"
    }
   ],
   "source": [
    "#taking a look at the final shape after joining. still quite a bit of data (~ 3 million observations)\n",
    "df.shape"
   ]
  },
  {
   "cell_type": "code",
   "execution_count": null,
   "metadata": {},
   "outputs": [],
   "source": [
    "df.to_csv('./yelp_dataset/restaurant_reviews.csv')"
   ]
  }
 ],
 "metadata": {
  "kernelspec": {
   "display_name": "Python 3",
   "language": "python",
   "name": "python3"
  },
  "language_info": {
   "codemirror_mode": {
    "name": "ipython",
    "version": 3
   },
   "file_extension": ".py",
   "mimetype": "text/x-python",
   "name": "python",
   "nbconvert_exporter": "python",
   "pygments_lexer": "ipython3",
   "version": "3.7.4"
  }
 },
 "nbformat": 4,
 "nbformat_minor": 2
}
